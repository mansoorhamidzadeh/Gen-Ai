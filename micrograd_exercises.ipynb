{
 "nbformat": 4,
 "nbformat_minor": 0,
 "metadata": {
  "colab": {
   "provenance": []
  },
  "kernelspec": {
   "name": "python3",
   "language": "python",
   "display_name": "Python 3 (ipykernel)"
  },
  "language_info": {
   "name": "python"
  }
 },
 "cells": [
  {
   "cell_type": "markdown",
   "source": [],
   "metadata": {
    "id": "JnGHatCI51JP"
   }
  },
  {
   "cell_type": "markdown",
   "source": [
    "## section 1: derivatives"
   ],
   "metadata": {
    "id": "OFt6NKOz6iBZ"
   }
  },
  {
   "cell_type": "code",
   "source": [
    "# here is a mathematical expression that takes 3 inputs and produces one output\n",
    "from math import sin, cos\n",
    "\n",
    "def f(a, b, c):\n",
    "    return -a**3 + sin(3*b) - 1.0/c + b**2.5 - a**0.5\n",
    "\n",
    "print(f(2, 3, 4))"
   ],
   "metadata": {
    "id": "3Jx9fCXl5xHd",
    "ExecuteTime": {
     "end_time": "2024-06-04T14:28:55.400681800Z",
     "start_time": "2024-06-04T14:28:55.400681800Z"
    }
   },
   "execution_count": 17,
   "outputs": [
    {
     "name": "stdout",
     "output_type": "stream",
     "text": [
      "6.336362190988558\n"
     ]
    }
   ]
  },
  {
   "cell_type": "code",
   "source": [
    "# write the function df that returns the analytical gradient of f\n",
    "# i.e. use your skills from calculus to take the derivative, then implement the formula\n",
    "# if you do not calculus then feel free to ask wolframalpha, e.g.:\n",
    "# https://www.wolframalpha.com/input?i=d%2Fda%28sin%283*a%29%29%29\n",
    "\n",
    "\n",
    "def gradf(a, b, c):\n",
    "  derivative_a = -3*a**2 - 0.5*a**-0.5\n",
    "  derivative_b = 3*cos(3*b) + 2.5*b**1.5\n",
    "  derivative_c = 1.0 / c**2\n",
    "  return [derivative_a, derivative_b, derivative_c]\n",
    "\n",
    "# Test the gradient function\n",
    "ans = [-12.353553390593273, 10.25699027111255, 0.0625]\n",
    "yours = gradf(2, 3, 4)\n",
    "for dim in range(3):\n",
    "  ok = 'OK' if abs(yours[dim] - ans[dim]) < 1e-5 else 'WRONG!'\n",
    "  print(f\"{ok} for dim {dim}: expected {ans[dim]}, yours returns {yours[dim]}\")\n",
    "\n"
   ],
   "metadata": {
    "id": "qXaH59eL9zxf",
    "ExecuteTime": {
     "end_time": "2024-06-04T14:28:55.992620100Z",
     "start_time": "2024-06-04T14:28:55.945730200Z"
    }
   },
   "execution_count": 18,
   "outputs": [
    {
     "name": "stdout",
     "output_type": "stream",
     "text": [
      "OK for dim 0: expected -12.353553390593273, yours returns -12.353553390593273\n",
      "OK for dim 1: expected 10.25699027111255, yours returns 10.25699027111255\n",
      "OK for dim 2: expected 0.0625, yours returns 0.0625\n"
     ]
    }
   ]
  },
  {
   "cell_type": "code",
   "source": [
    "# now estimate the gradient numerically without any calculus, using\n",
    "# the approximation we used in the video.\n",
    "# you should not call the function df from the last cell\n",
    "\n",
    "def numerical_gradient(f, a, b, c, h=1e-5):\n",
    "\n",
    "  derivative_a = (f(a + h, b, c) - f(a , b, c)) / h\n",
    "  derivative_b = (f(a, b + h, c) - f(a, b , c)) / h\n",
    "  derivative_c = (f(a, b, c + h) - f(a, b, c )) / h\n",
    "  return [derivative_a,derivative_b,derivative_c]\n",
    "\n",
    "# Test the numerical gradient\n",
    "numerical_grad = numerical_gradient(f, 2, 3, 4)\n",
    "\n",
    "ans = [-12.353553390593273, 10.25699027111255, 0.0625]\n",
    "for dim in range(3):\n",
    "  ok = 'OK' if abs(numerical_grad[dim] - ans[dim]) < 1e-5 else 'WRONG!'\n",
    "  print(f\"{ok} for dim {dim}: expected {ans[dim]}, yours returns {numerical_grad[dim]}\")\n",
    "\n"
   ],
   "metadata": {
    "id": "_27n-KTA9Qla",
    "ExecuteTime": {
     "end_time": "2024-06-05T08:43:20.893615500Z",
     "start_time": "2024-06-05T08:43:20.862621300Z"
    }
   },
   "execution_count": 27,
   "outputs": [
    {
     "name": "stdout",
     "output_type": "stream",
     "text": [
      "WRONG! for dim 0: expected -12.353553390593273, yours returns -12.353612948956536\n",
      "WRONG! for dim 1: expected 10.25699027111255, yours returns 10.257004202163245\n",
      "OK for dim 2: expected 0.0625, yours returns 0.06249984378925432\n"
     ]
    }
   ]
  },
  {
   "cell_type": "code",
   "source": [
    "# there is an alternative formula that provides a much better numerical\n",
    "# approximation to the derivative of a function.\n",
    "# learn about it here: https://en.wikipedia.org/wiki/Symmetric_derivative\n",
    "# implement it. confirm that for the same step size h this version gives a\n",
    "# better approximation.\n",
    "\n",
    "\n",
    "\n",
    "def numerical_gradient2(f, a, b, c, h=1e-5):\n",
    "\n",
    "   derivative_a= (f(a + h, b, c) - f(a - h, b, c)) / (2 * h)\n",
    "   derivative_b= (f(a, b + h, c) - f(a, b - h, c)) / (2 * h)\n",
    "   derivative_c= (f(a, b, c + h) - f(a, b, c - h)) / (2 * h)\n",
    "   return [derivative_a,derivative_b,derivative_c]\n",
    "\n",
    "numerical_grad2 = numerical_gradient2(f, 2, 3, 4)\n",
    "\n",
    "ans = [-12.353553390593273, 10.25699027111255, 0.0625]\n",
    "for dim in range(3):\n",
    "  ok = 'OK' if abs(numerical_grad2[dim] - ans[dim]) < 1e-5 else 'WRONG!'\n",
    "  print(f\"{ok} for dim {dim}: expected {ans[dim]}, yours returns {numerical_grad2[dim]}\")\n",
    "\n"
   ],
   "metadata": {
    "id": "BUqsGb5o_h2P",
    "ExecuteTime": {
     "end_time": "2024-06-05T08:43:27.630716700Z",
     "start_time": "2024-06-05T08:43:27.586699800Z"
    }
   },
   "execution_count": 28,
   "outputs": [
    {
     "name": "stdout",
     "output_type": "stream",
     "text": [
      "OK for dim 0: expected -12.353553390593273, yours returns -12.353553390820336\n",
      "OK for dim 1: expected 10.25699027111255, yours returns 10.256990271617639\n",
      "OK for dim 2: expected 0.0625, yours returns 0.06250000001983835\n"
     ]
    }
   ]
  },
  {
   "cell_type": "markdown",
   "source": [
    "## section 2: support for softmax"
   ],
   "metadata": {
    "id": "tklF9s_4AtlI"
   }
  },
  {
   "cell_type": "code",
   "execution_count": 29,
   "outputs": [
    {
     "name": "stdout",
     "output_type": "stream",
     "text": [
      "OK for dim 0: expected 0.041772570515350445, yours returns 0.041772570515350445\n",
      "OK for dim 1: expected 0.8390245074625319, yours returns 0.8390245074625319\n",
      "OK for dim 2: expected 0.005653302662216329, yours returns 0.00565330266221633\n"
     ]
    }
   ],
   "source": [
    "from math import exp, log\n",
    "\n",
    "class Value:\n",
    "  def __init__(self, data, _children=(), _op='', label=''):\n",
    "    self.data = data\n",
    "    self.grad = 0.0\n",
    "    self._backward = lambda: None\n",
    "    self._prev = set(_children)\n",
    "    self._op = _op\n",
    "    self.label = label\n",
    "\n",
    "  def __repr__(self):\n",
    "    return f\"Value(data={self.data})\"\n",
    "\n",
    "  def __add__(self, other):\n",
    "    other = other if isinstance(other, Value) else Value(other)\n",
    "    out = Value(self.data + other.data, (self, other), '+')\n",
    "\n",
    "    def _backward():\n",
    "      self.grad += 1.0 * out.grad\n",
    "      other.grad += 1.0 * out.grad\n",
    "    out._backward = _backward\n",
    "\n",
    "    return out\n",
    "\n",
    "  def __radd__(self, other):\n",
    "    return self + other\n",
    "\n",
    "  def __mul__(self, other):\n",
    "    other = other if isinstance(other, Value) else Value(other)\n",
    "    out = Value(self.data * other.data, (self, other), '*')\n",
    "\n",
    "    def _backward():\n",
    "      self.grad += other.data * out.grad\n",
    "      other.grad += self.data * out.grad\n",
    "    out._backward = _backward\n",
    "\n",
    "    return out\n",
    "\n",
    "  def __rmul__(self, other):\n",
    "    return self * other\n",
    "\n",
    "  def __sub__(self, other):\n",
    "    return self + (-other)\n",
    "\n",
    "  def __neg__(self):\n",
    "    return self * -1\n",
    "\n",
    "  def __truediv__(self, other):\n",
    "    return self * other**-1\n",
    "\n",
    "  def __pow__(self, other):\n",
    "    assert isinstance(other, (int, float)), \"only supporting int/float powers for now\"\n",
    "    out = Value(self.data ** other, (self,), f'**{other}')\n",
    "\n",
    "    def _backward():\n",
    "      self.grad += (other * self.data ** (other - 1)) * out.grad\n",
    "    out._backward = _backward\n",
    "\n",
    "    return out\n",
    "\n",
    "  def exp(self):\n",
    "    out = Value(exp(self.data), (self,), 'exp')\n",
    "\n",
    "    def _backward():\n",
    "      self.grad += out.data * out.grad\n",
    "    out._backward = _backward\n",
    "\n",
    "    return out\n",
    "\n",
    "  def log(self):\n",
    "    out = Value(log(self.data), (self,), 'log')\n",
    "\n",
    "    def _backward():\n",
    "      self.grad += (1 / self.data) * out.grad\n",
    "    out._backward = _backward\n",
    "\n",
    "    return out\n",
    "\n",
    "  def backward(self):\n",
    "    topo = []\n",
    "    visited = set()\n",
    "\n",
    "    def build_topo(v):\n",
    "      if v not in visited:\n",
    "        visited.add(v)\n",
    "        for child in v._prev:\n",
    "          build_topo(child)\n",
    "        topo.append(v)\n",
    "\n",
    "    build_topo(self)\n",
    "\n",
    "    self.grad = 1.0\n",
    "    for node in reversed(topo):\n",
    "      node._backward()\n",
    "\n",
    "  def zero_grad(self):\n",
    "    self.grad = 0.0\n",
    "    for child in self._prev:\n",
    "      child.zero_grad()\n",
    "\n",
    "def softmax(logits):\n",
    "  exp_values = [logit.exp() for logit in logits]\n",
    "  sum_exp_values = sum(exp_values)\n",
    "  out = [exp_val / sum_exp_values for exp_val in exp_values]\n",
    "\n",
    "  def _backward():\n",
    "    for i in range(len(logits)):\n",
    "      logits[i].grad += out[i].data * (1 - out[i].data) * out[i].grad\n",
    "      for j in range(len(logits)):\n",
    "        if i != j:\n",
    "          logits[i].grad -= out[i].data * out[j].data * out[j].grad\n",
    "\n",
    "  for val in out:\n",
    "    val._backward = _backward\n",
    "\n",
    "  return out\n",
    "\n",
    "# Test the corrected implementation\n",
    "logits = [Value(0.0), Value(3.0), Value(-2.0), Value(1.0)]\n",
    "\n",
    "probs = softmax(logits)\n",
    "\n",
    "loss = -probs[3].log()\n",
    "\n",
    "loss.backward()\n",
    "\n",
    "\n",
    "\n",
    "ans = [0.041772570515350445, 0.8390245074625319, 0.005653302662216329, -0.8864503806400986]\n",
    "for dim in range(4):\n",
    "  ok = 'OK' if abs(logits[dim].grad - ans[dim]) < 1e-5 else 'WRONG!'\n",
    "  print(f\"{ok} for dim {dim}: expected {ans[dim]}, yours returns {logits[dim].grad}\")\n"
   ],
   "metadata": {
    "collapsed": false
   }
  },
  {
   "cell_type": "markdown",
   "source": [],
   "metadata": {
    "collapsed": false
   }
  },
  {
   "cell_type": "code",
   "execution_count": 22,
   "outputs": [
    {
     "name": "stdout",
     "output_type": "stream",
     "text": [
      "Loss: 2.1755154132843018\n",
      "OK for dim 0: expected 0.041772570515350445, torch returns 0.041772566735744476\n",
      "OK for dim 1: expected 0.8390245074625319, torch returns 0.8390244841575623\n",
      "OK for dim 2: expected 0.005653302662216329, torch returns 0.005653302650898695\n",
      "OK for dim 3: expected -0.8864503806400986, torch returns -0.8864504098892212\n",
      "\n",
      "Gradient comparison:\n",
      "Dimension 0:\n",
      "Custom grad: 0.041772570515350445\n",
      "Torch grad: 0.041772566735744476\n",
      "Dimension 1:\n",
      "Custom grad: 0.8390245074625319\n",
      "Torch grad: 0.8390244841575623\n",
      "Dimension 2:\n",
      "Custom grad: 0.00565330266221633\n",
      "Torch grad: 0.005653302650898695\n",
      "Dimension 3:\n",
      "Custom grad: -0.8864503806400986\n",
      "Torch grad: -0.8864504098892212\n"
     ]
    }
   ],
   "source": [
    "import torch\n",
    "\n",
    "logits_torch = torch.tensor([0.0, 3.0, -2.0, 1.0], requires_grad=True)\n",
    "softmax_torch = torch.nn.functional.softmax(logits_torch, dim=0)\n",
    "loss_torch = -torch.log(softmax_torch[3])  # dim 3 acts as the label for this input example\n",
    "loss_torch.backward()\n",
    "\n",
    "print(\"Loss:\", loss_torch.item())  # Output the loss value\n",
    "\n",
    "ans = [0.041772570515350445, 0.8390245074625319, 0.005653302662216329, -0.8864503806400986]\n",
    "for dim in range(4):\n",
    "  ok = 'OK' if abs(logits_torch.grad[dim].item() - ans[dim]) < 1e-5 else 'WRONG!'\n",
    "  print(f\"{ok} for dim {dim}: expected {ans[dim]}, torch returns {logits_torch.grad[dim].item()}\")\n",
    "\n",
    "print(\"\\nGradient comparison:\")\n",
    "for i in range(4):\n",
    "  print(f\"Dimension {i}:\")\n",
    "  print(f\"Custom grad: {logits[i].grad}\")\n",
    "  print(f\"Torch grad: {logits_torch.grad[i].item()}\")\n"
   ],
   "metadata": {
    "collapsed": false,
    "ExecuteTime": {
     "end_time": "2024-06-04T15:05:11.186880600Z",
     "start_time": "2024-06-04T15:05:11.155635600Z"
    }
   }
  },
  {
   "cell_type": "code",
   "execution_count": 99,
   "outputs": [],
   "source": [
    "import os\n",
    "os.environ[\"PATH\"] += os.pathsep + 'C:\\Program Files\\Graphviz\\bin'"
   ],
   "metadata": {
    "collapsed": false
   }
  },
  {
   "cell_type": "code",
   "execution_count": null,
   "outputs": [],
   "source": [],
   "metadata": {
    "collapsed": false
   }
  }
 ]
}
