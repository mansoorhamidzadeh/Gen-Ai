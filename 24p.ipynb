{
  "nbformat": 4,
  "nbformat_minor": 0,
  "metadata": {
    "colab": {
      "provenance": []
    },
    "kernelspec": {
      "name": "python3",
      "display_name": "Python 3"
    },
    "language_info": {
      "name": "python"
    }
  },
  "cells": [
    {
      "cell_type": "code",
      "execution_count": null,
      "metadata": {
        "id": "Tvwzu6LwUhhO"
      },
      "outputs": [],
      "source": [
        "import random\n",
        "import numpy as np\n",
        "import torch\n",
        "from torch import nn\n",
        "import torch.nn.functional as F\n",
        "import torch.optim as optim\n",
        "\n"
      ]
    },
    {
      "cell_type": "code",
      "source": [
        "# Generate unique full names\n",
        "first_names = [\"Ali\", \"Sara\", \"Reza\", \"Neda\", \"Hossein\", \"Leila\", \"Mojtaba\", \"Maryam\", \"Amir\", \"Zahra\", \"Farhad\", \"Elham\"]\n",
        "last_names = [\"Ahmadi\", \"Hosseini\", \"Khan\", \"Jafari\", \"Karimi\", \"Rostami\", \"Salehi\", \"Soleimani\", \"Farhadi\", \"Akbari\", \"Shirazi\", \"Ghasemi\"]\n",
        "full_names = []\n",
        "i = 24\n",
        "while i > 0:\n",
        "    full_name = f'{random.choice(first_names)} {random.choice(last_names)}'\n",
        "    if full_name not in full_names:\n",
        "        full_names.append(full_name)\n",
        "        i -= 1\n",
        "print(full_names)"
      ],
      "metadata": {
        "colab": {
          "base_uri": "https://localhost:8080/"
        },
        "id": "QcItlMW_YCjA",
        "outputId": "c166f650-712f-4174-f7aa-9d3934ba617a"
      },
      "execution_count": null,
      "outputs": [
        {
          "output_type": "stream",
          "name": "stdout",
          "text": [
            "['Sara Farhadi', 'Amir Jafari', 'Farhad Ghasemi', 'Reza Ghasemi', 'Hossein Rostami', 'Elham Ghasemi', 'Sara Rostami', 'Hossein Jafari', 'Sara Soleimani', 'Neda Hosseini', 'Mojtaba Karimi', 'Hossein Shirazi', 'Neda Rostami', 'Zahra Ghasemi', 'Elham Hosseini', 'Amir Soleimani', 'Elham Rostami', 'Reza Ahmadi', 'Leila Karimi', 'Leila Jafari', 'Amir Shirazi', 'Farhad Farhadi', 'Maryam Ghasemi', 'Elham Shirazi']\n"
          ]
        }
      ]
    },
    {
      "cell_type": "code",
      "source": [
        "# Generate conflict pairs\n",
        "pairs_list = set()\n",
        "matrix = np.zeros((24, 24), dtype=int)\n",
        "while matrix.sum() < 40:\n",
        "    num1 = np.random.choice(range(24))\n",
        "    num2 = np.random.choice(range(24))\n",
        "    if num1 == num2:\n",
        "        continue\n",
        "    pair = (num1, num2)\n",
        "    if pair in pairs_list:\n",
        "        continue\n",
        "    pairs_list.add(pair)\n",
        "    matrix[num1, num2] = 1\n",
        "    matrix[num2, num1] = 1\n",
        "\n",
        "conflicts = np.array([matrix])\n",
        "print(conflicts)"
      ],
      "metadata": {
        "colab": {
          "base_uri": "https://localhost:8080/"
        },
        "id": "x7AuOUi8YH_V",
        "outputId": "577f15df-0ea9-47ca-a4a0-236e76392e15"
      },
      "execution_count": null,
      "outputs": [
        {
          "output_type": "stream",
          "name": "stdout",
          "text": [
            "[[[0 0 0 0 0 0 0 0 0 1 0 0 0 0 0 0 0 0 0 0 0 0 0 0]\n",
            "  [0 0 0 0 1 0 1 1 0 0 0 0 0 0 0 0 0 0 0 0 0 0 0 0]\n",
            "  [0 0 0 0 0 0 0 0 0 0 0 0 0 1 0 0 0 0 0 0 0 0 0 0]\n",
            "  [0 0 0 0 0 0 1 0 0 0 0 0 0 0 0 0 0 0 0 0 0 0 0 0]\n",
            "  [0 1 0 0 0 0 0 0 0 0 0 0 0 0 0 0 0 0 0 0 0 0 0 0]\n",
            "  [0 0 0 0 0 0 1 0 0 0 0 0 0 0 0 0 0 0 0 0 0 0 0 0]\n",
            "  [0 1 0 1 0 1 0 0 0 0 0 0 0 0 0 0 0 0 0 0 0 0 0 0]\n",
            "  [0 1 0 0 0 0 0 0 0 0 0 0 0 0 1 0 0 0 0 0 0 0 0 0]\n",
            "  [0 0 0 0 0 0 0 0 0 0 0 0 1 0 0 0 0 0 0 0 0 0 0 0]\n",
            "  [1 0 0 0 0 0 0 0 0 0 0 0 0 0 0 0 1 0 0 0 0 0 0 0]\n",
            "  [0 0 0 0 0 0 0 0 0 0 0 0 0 0 0 0 0 0 0 0 0 1 0 1]\n",
            "  [0 0 0 0 0 0 0 0 0 0 0 0 1 0 0 0 0 0 0 0 0 0 0 0]\n",
            "  [0 0 0 0 0 0 0 0 1 0 0 1 0 0 0 0 0 0 0 1 0 0 0 0]\n",
            "  [0 0 1 0 0 0 0 0 0 0 0 0 0 0 0 1 0 0 0 0 0 0 0 0]\n",
            "  [0 0 0 0 0 0 0 1 0 0 0 0 0 0 0 0 0 0 0 0 0 0 0 0]\n",
            "  [0 0 0 0 0 0 0 0 0 0 0 0 0 1 0 0 0 0 0 0 0 0 1 0]\n",
            "  [0 0 0 0 0 0 0 0 0 1 0 0 0 0 0 0 0 0 0 0 0 0 0 0]\n",
            "  [0 0 0 0 0 0 0 0 0 0 0 0 0 0 0 0 0 0 0 0 0 0 0 0]\n",
            "  [0 0 0 0 0 0 0 0 0 0 0 0 0 0 0 0 0 0 0 0 0 0 0 0]\n",
            "  [0 0 0 0 0 0 0 0 0 0 0 0 1 0 0 0 0 0 0 0 0 0 0 1]\n",
            "  [0 0 0 0 0 0 0 0 0 0 0 0 0 0 0 0 0 0 0 0 0 1 1 0]\n",
            "  [0 0 0 0 0 0 0 0 0 0 1 0 0 0 0 0 0 0 0 0 1 0 1 0]\n",
            "  [0 0 0 0 0 0 0 0 0 0 0 0 0 0 0 1 0 0 0 0 1 1 0 0]\n",
            "  [0 0 0 0 0 0 0 0 0 0 1 0 0 0 0 0 0 0 0 1 0 0 0 0]]]\n"
          ]
        }
      ]
    },
    {
      "cell_type": "code",
      "source": [
        "# Create adjacent mask\n",
        "def create_adjacent_mask(n_seats, seats_per_row, seats_per_col):\n",
        "    adjacent_mask = np.zeros((n_seats, n_seats))\n",
        "    for i in range(n_seats):\n",
        "        if i % seats_per_row != 0:\n",
        "            adjacent_mask[i, i-1] = 1\n",
        "        if i % seats_per_row != seats_per_row-1:\n",
        "            adjacent_mask[i, i+1] = 1\n",
        "        if i >= seats_per_row:\n",
        "            adjacent_mask[i, i-seats_per_row] = 1\n",
        "        if i < n_seats-seats_per_row:\n",
        "            adjacent_mask[i, i+seats_per_row] = 1\n",
        "    return adjacent_mask\n",
        "\n",
        "adjacent_mask = create_adjacent_mask(24, 6, 4)\n",
        "print(adjacent_mask)"
      ],
      "metadata": {
        "colab": {
          "base_uri": "https://localhost:8080/"
        },
        "id": "8VilAoCRYNrL",
        "outputId": "91dabd32-e694-415e-b9ab-52c7633f6f53"
      },
      "execution_count": null,
      "outputs": [
        {
          "output_type": "stream",
          "name": "stdout",
          "text": [
            "[[0. 1. 0. 0. 0. 0. 1. 0. 0. 0. 0. 0. 0. 0. 0. 0. 0. 0. 0. 0. 0. 0. 0. 0.]\n",
            " [1. 0. 1. 0. 0. 0. 0. 1. 0. 0. 0. 0. 0. 0. 0. 0. 0. 0. 0. 0. 0. 0. 0. 0.]\n",
            " [0. 1. 0. 1. 0. 0. 0. 0. 1. 0. 0. 0. 0. 0. 0. 0. 0. 0. 0. 0. 0. 0. 0. 0.]\n",
            " [0. 0. 1. 0. 1. 0. 0. 0. 0. 1. 0. 0. 0. 0. 0. 0. 0. 0. 0. 0. 0. 0. 0. 0.]\n",
            " [0. 0. 0. 1. 0. 1. 0. 0. 0. 0. 1. 0. 0. 0. 0. 0. 0. 0. 0. 0. 0. 0. 0. 0.]\n",
            " [0. 0. 0. 0. 1. 0. 0. 0. 0. 0. 0. 1. 0. 0. 0. 0. 0. 0. 0. 0. 0. 0. 0. 0.]\n",
            " [1. 0. 0. 0. 0. 0. 0. 1. 0. 0. 0. 0. 1. 0. 0. 0. 0. 0. 0. 0. 0. 0. 0. 0.]\n",
            " [0. 1. 0. 0. 0. 0. 1. 0. 1. 0. 0. 0. 0. 1. 0. 0. 0. 0. 0. 0. 0. 0. 0. 0.]\n",
            " [0. 0. 1. 0. 0. 0. 0. 1. 0. 1. 0. 0. 0. 0. 1. 0. 0. 0. 0. 0. 0. 0. 0. 0.]\n",
            " [0. 0. 0. 1. 0. 0. 0. 0. 1. 0. 1. 0. 0. 0. 0. 1. 0. 0. 0. 0. 0. 0. 0. 0.]\n",
            " [0. 0. 0. 0. 1. 0. 0. 0. 0. 1. 0. 1. 0. 0. 0. 0. 1. 0. 0. 0. 0. 0. 0. 0.]\n",
            " [0. 0. 0. 0. 0. 1. 0. 0. 0. 0. 1. 0. 0. 0. 0. 0. 0. 1. 0. 0. 0. 0. 0. 0.]\n",
            " [0. 0. 0. 0. 0. 0. 1. 0. 0. 0. 0. 0. 0. 1. 0. 0. 0. 0. 1. 0. 0. 0. 0. 0.]\n",
            " [0. 0. 0. 0. 0. 0. 0. 1. 0. 0. 0. 0. 1. 0. 1. 0. 0. 0. 0. 1. 0. 0. 0. 0.]\n",
            " [0. 0. 0. 0. 0. 0. 0. 0. 1. 0. 0. 0. 0. 1. 0. 1. 0. 0. 0. 0. 1. 0. 0. 0.]\n",
            " [0. 0. 0. 0. 0. 0. 0. 0. 0. 1. 0. 0. 0. 0. 1. 0. 1. 0. 0. 0. 0. 1. 0. 0.]\n",
            " [0. 0. 0. 0. 0. 0. 0. 0. 0. 0. 1. 0. 0. 0. 0. 1. 0. 1. 0. 0. 0. 0. 1. 0.]\n",
            " [0. 0. 0. 0. 0. 0. 0. 0. 0. 0. 0. 1. 0. 0. 0. 0. 1. 0. 0. 0. 0. 0. 0. 1.]\n",
            " [0. 0. 0. 0. 0. 0. 0. 0. 0. 0. 0. 0. 1. 0. 0. 0. 0. 0. 0. 1. 0. 0. 0. 0.]\n",
            " [0. 0. 0. 0. 0. 0. 0. 0. 0. 0. 0. 0. 0. 1. 0. 0. 0. 0. 1. 0. 1. 0. 0. 0.]\n",
            " [0. 0. 0. 0. 0. 0. 0. 0. 0. 0. 0. 0. 0. 0. 1. 0. 0. 0. 0. 1. 0. 1. 0. 0.]\n",
            " [0. 0. 0. 0. 0. 0. 0. 0. 0. 0. 0. 0. 0. 0. 0. 1. 0. 0. 0. 0. 1. 0. 1. 0.]\n",
            " [0. 0. 0. 0. 0. 0. 0. 0. 0. 0. 0. 0. 0. 0. 0. 0. 1. 0. 0. 0. 0. 1. 0. 1.]\n",
            " [0. 0. 0. 0. 0. 0. 0. 0. 0. 0. 0. 0. 0. 0. 0. 0. 0. 1. 0. 0. 0. 0. 1. 0.]]\n"
          ]
        }
      ]
    },
    {
      "cell_type": "code",
      "source": [
        "\n",
        "# PyTorch model and training\n",
        "class SeatingArr(nn.Module):\n",
        "    def __init__(self) -> None:\n",
        "        super(SeatingArr, self).__init__()\n",
        "        self.flatten = nn.Flatten()\n",
        "        self.dense_1 = nn.Linear(24*24, 80, dtype=torch.float64)\n",
        "        self.dropout_1 = nn.Dropout(0.5)\n",
        "        self.dense_2 = nn.Linear(80, 24 * 24, dtype=torch.float64)\n",
        "        self.dropout_2 = nn.Dropout(0.5)\n",
        "\n",
        "    def forward(self, x):\n",
        "        x = self.flatten(x)\n",
        "        x = F.relu(self.dense_1(x))\n",
        "        x = self.dropout_1(x)\n",
        "        x = self.dense_2(x)\n",
        "        x = x.view(-1, 24, 24)\n",
        "        x = F.softmax(x, dim=2)\n",
        "        return x\n"
      ],
      "metadata": {
        "id": "rgVrObFuYTSs"
      },
      "execution_count": null,
      "outputs": []
    },
    {
      "cell_type": "code",
      "source": [
        "net = SeatingArr()\n",
        "optimizer = optim.Adam(params=net.parameters(), lr=0.001)  # Further reduced learning rate\n",
        "scheduler = optim.lr_scheduler.StepLR(optimizer, step_size=50, gamma=0.1)  # Dynamic learning rate\n",
        "conflicts_tensor = torch.tensor(conflicts, dtype=torch.float64)\n",
        "adjacent_mask_torch = torch.tensor(adjacent_mask, dtype=torch.float64)"
      ],
      "metadata": {
        "id": "0jAX6fZ2YdP1"
      },
      "execution_count": null,
      "outputs": []
    },
    {
      "cell_type": "code",
      "source": [
        "# Function to calculate conflicts\n",
        "def calculate_conflict_torch(seating_arrangement, conflict_matrix):\n",
        "    ca_mul = conflict_matrix * adjacent_mask_torch\n",
        "    conflicts = torch.sum(torch.matmul(seating_arrangement.type(torch.float64), ca_mul))\n",
        "    return conflicts"
      ],
      "metadata": {
        "id": "lv4GqLMEYhiT"
      },
      "execution_count": null,
      "outputs": []
    },
    {
      "cell_type": "code",
      "source": [
        "# Custom loss function\n",
        "def custom_loss_torch(predicted_seating_arrangement, conflicts_tensor):\n",
        "    loss = 0\n",
        "    batch_size = predicted_seating_arrangement.shape[0]\n",
        "    predicted_seating_arrangement = predicted_seating_arrangement.type(torch.float64)\n",
        "    conflict = calculate_conflict_torch(predicted_seating_arrangement, conflicts_tensor)\n",
        "    col_sum_loss = torch.sum((torch.sum(predicted_seating_arrangement, dim=1) - 1) ** 2)\n",
        "    loss = col_sum_loss + conflict\n",
        "    return loss / batch_size"
      ],
      "metadata": {
        "id": "17WGyY-GYh1C"
      },
      "execution_count": null,
      "outputs": []
    },
    {
      "cell_type": "code",
      "source": [
        "# Function to print seating arrangement\n",
        "def print_seating_arrangement(epoch, output, phase):\n",
        "    seating_arrangement = torch.argmax(output, dim=2).numpy()\n",
        "    for i in range(seating_arrangement.shape[0]):\n",
        "        names_arrangement = [full_names[j] for j in seating_arrangement[i]]\n",
        "        print(f'{phase} Epoch {epoch + 1} - Arrangement {i + 1}: {names_arrangement}')\n",
        "        print(f'{phase} Epoch {epoch + 1} - Arrangement {i + 1} (Indices): {seating_arrangement[i]}')\n"
      ],
      "metadata": {
        "id": "JXN2IuhFYj3p"
      },
      "execution_count": null,
      "outputs": []
    },
    {
      "cell_type": "code",
      "source": [
        "# Training function\n",
        "def train(epoch):\n",
        "    net.train()\n",
        "    optimizer.zero_grad()\n",
        "    output = net(conflicts_tensor)\n",
        "    loss = custom_loss_torch(output, conflicts_tensor)\n",
        "    loss.backward()\n",
        "    optimizer.step()\n",
        "    scheduler.step()\n",
        "    if epoch % 10 == 0:\n",
        "        print(f'Train Epoch: {epoch + 1} Loss: {loss.item()}')\n",
        "        torch.save(net.state_dict(), 'model.pth')\n",
        "        torch.save(optimizer.state_dict(), 'optimizer.pth')\n",
        "        print_seating_arrangement(epoch, output, \"Intermediate\")\n"
      ],
      "metadata": {
        "id": "J_GfCA8aYo2q"
      },
      "execution_count": null,
      "outputs": []
    },
    {
      "cell_type": "code",
      "source": [
        "# Initial output\n",
        "with torch.no_grad():\n",
        "    initial_output = net(conflicts_tensor)\n",
        "    print_seating_arrangement(0, initial_output, \"Initial\")\n",
        "\n",
        "# Training loop\n",
        "n_epoch = 400\n",
        "for epoch in range(n_epoch):\n",
        "    train(epoch)\n",
        "\n",
        "# Final output\n",
        "with torch.no_grad():\n",
        "    final_output = net(conflicts_tensor)\n",
        "    final_loss = custom_loss_torch(final_output, conflicts_tensor)\n",
        "    print(f'Final Loss: {final_loss.item()}')\n",
        "    print_seating_arrangement(n_epoch, final_output, \"Final\")"
      ],
      "metadata": {
        "colab": {
          "base_uri": "https://localhost:8080/"
        },
        "id": "XeAblQ16YpRp",
        "outputId": "d00dbcde-d78a-44f3-f903-4f69de89a7ac"
      },
      "execution_count": null,
      "outputs": [
        {
          "output_type": "stream",
          "name": "stdout",
          "text": [
            "Initial Epoch 1 - Arrangement 1: ['Elham Ghasemi', 'Reza Ahmadi', 'Sara Soleimani', 'Elham Shirazi', 'Neda Rostami', 'Reza Ahmadi', 'Elham Hosseini', 'Amir Soleimani', 'Hossein Rostami', 'Hossein Shirazi', 'Sara Rostami', 'Neda Hosseini', 'Mojtaba Karimi', 'Hossein Rostami', 'Sara Farhadi', 'Neda Hosseini', 'Elham Shirazi', 'Amir Soleimani', 'Reza Ahmadi', 'Reza Ahmadi', 'Sara Soleimani', 'Sara Rostami', 'Sara Soleimani', 'Elham Hosseini']\n",
            "Initial Epoch 1 - Arrangement 1 (Indices): [ 5 17  8 23 12 17 14 15  4 11  6  9 10  4  0  9 23 15 17 17  8  6  8 14]\n",
            "Train Epoch: 1 Loss: 4.501451382135095\n",
            "Intermediate Epoch 1 - Arrangement 1: ['Hossein Shirazi', 'Elham Rostami', 'Neda Hosseini', 'Elham Shirazi', 'Elham Hosseini', 'Elham Hosseini', 'Sara Rostami', 'Elham Hosseini', 'Reza Ghasemi', 'Hossein Shirazi', 'Zahra Ghasemi', 'Mojtaba Karimi', 'Reza Ghasemi', 'Neda Rostami', 'Leila Karimi', 'Reza Ghasemi', 'Elham Ghasemi', 'Neda Rostami', 'Hossein Rostami', 'Sara Soleimani', 'Sara Farhadi', 'Elham Rostami', 'Reza Ghasemi', 'Elham Shirazi']\n",
            "Intermediate Epoch 1 - Arrangement 1 (Indices): [11 16  9 23 14 14  6 14  3 11 13 10  3 12 18  3  5 12  4  8  0 16  3 23]\n",
            "Train Epoch: 11 Loss: 4.452899112726789\n",
            "Intermediate Epoch 11 - Arrangement 1: ['Amir Soleimani', 'Elham Rostami', 'Farhad Ghasemi', 'Elham Shirazi', 'Elham Hosseini', 'Reza Ahmadi', 'Sara Rostami', 'Amir Soleimani', 'Leila Karimi', 'Hossein Shirazi', 'Amir Soleimani', 'Neda Rostami', 'Reza Ghasemi', 'Neda Rostami', 'Hossein Rostami', 'Reza Ghasemi', 'Elham Shirazi', 'Neda Rostami', 'Farhad Ghasemi', 'Elham Hosseini', 'Sara Soleimani', 'Elham Hosseini', 'Amir Soleimani', 'Sara Rostami']\n",
            "Intermediate Epoch 11 - Arrangement 1 (Indices): [15 16  2 23 14 17  6 15 18 11 15 12  3 12  4  3 23 12  2 14  8 14 15  6]\n",
            "Train Epoch: 21 Loss: 4.521128347271694\n",
            "Intermediate Epoch 21 - Arrangement 1: ['Elham Ghasemi', 'Zahra Ghasemi', 'Hossein Rostami', 'Reza Ghasemi', 'Leila Jafari', 'Reza Ahmadi', 'Mojtaba Karimi', 'Amir Soleimani', 'Farhad Ghasemi', 'Reza Ahmadi', 'Elham Shirazi', 'Sara Rostami', 'Mojtaba Karimi', 'Sara Farhadi', 'Leila Karimi', 'Hossein Shirazi', 'Sara Rostami', 'Amir Soleimani', 'Farhad Ghasemi', 'Leila Karimi', 'Elham Ghasemi', 'Reza Ahmadi', 'Hossein Rostami', 'Reza Ghasemi']\n",
            "Intermediate Epoch 21 - Arrangement 1 (Indices): [ 5 13  4  3 19 17 10 15  2 17 23  6 10  0 18 11  6 15  2 18  5 17  4  3]\n",
            "Train Epoch: 31 Loss: 4.445669806187355\n",
            "Intermediate Epoch 31 - Arrangement 1: ['Neda Hosseini', 'Hossein Rostami', 'Sara Soleimani', 'Leila Jafari', 'Neda Rostami', 'Reza Ahmadi', 'Mojtaba Karimi', 'Amir Soleimani', 'Neda Hosseini', 'Hossein Shirazi', 'Sara Rostami', 'Hossein Shirazi', 'Reza Ghasemi', 'Sara Farhadi', 'Leila Karimi', 'Reza Ghasemi', 'Sara Rostami', 'Amir Soleimani', 'Hossein Shirazi', 'Sara Soleimani', 'Sara Soleimani', 'Leila Jafari', 'Reza Ghasemi', 'Zahra Ghasemi']\n",
            "Intermediate Epoch 31 - Arrangement 1 (Indices): [ 9  4  8 19 12 17 10 15  9 11  6 11  3  0 18  3  6 15 11  8  8 19  3 13]\n",
            "Train Epoch: 41 Loss: 4.440049998449304\n",
            "Intermediate Epoch 41 - Arrangement 1: ['Elham Ghasemi', 'Hossein Shirazi', 'Sara Soleimani', 'Hossein Shirazi', 'Neda Rostami', 'Reza Ahmadi', 'Elham Ghasemi', 'Amir Soleimani', 'Sara Farhadi', 'Leila Karimi', 'Hossein Shirazi', 'Reza Ghasemi', 'Sara Farhadi', 'Hossein Rostami', 'Leila Karimi', 'Neda Hosseini', 'Hossein Rostami', 'Sara Farhadi', 'Sara Rostami', 'Sara Soleimani', 'Sara Soleimani', 'Elham Rostami', 'Sara Soleimani', 'Elham Hosseini']\n",
            "Intermediate Epoch 41 - Arrangement 1 (Indices): [ 5 11  8 11 12 17  5 15  0 18 11  3  0  4 18  9  4  0  6  8  8 16  8 14]\n",
            "Train Epoch: 51 Loss: 4.445371404988628\n",
            "Intermediate Epoch 51 - Arrangement 1: ['Elham Ghasemi', 'Neda Rostami', 'Sara Soleimani', 'Leila Jafari', 'Hossein Rostami', 'Mojtaba Karimi', 'Elham Hosseini', 'Amir Soleimani', 'Hossein Rostami', 'Hossein Shirazi', 'Amir Soleimani', 'Neda Hosseini', 'Reza Ghasemi', 'Sara Soleimani', 'Elham Shirazi', 'Neda Rostami', 'Elham Shirazi', 'Neda Rostami', 'Farhad Ghasemi', 'Farhad Ghasemi', 'Sara Soleimani', 'Sara Rostami', 'Leila Karimi', 'Sara Farhadi']\n",
            "Intermediate Epoch 51 - Arrangement 1 (Indices): [ 5 12  8 19  4 10 14 15  4 11 15  9  3  8 23 12 23 12  2  2  8  6 18  0]\n",
            "Train Epoch: 61 Loss: 4.447230446159207\n",
            "Intermediate Epoch 61 - Arrangement 1: ['Reza Ahmadi', 'Hossein Shirazi', 'Neda Rostami', 'Neda Hosseini', 'Neda Rostami', 'Mojtaba Karimi', 'Zahra Ghasemi', 'Amir Soleimani', 'Hossein Rostami', 'Hossein Shirazi', 'Elham Rostami', 'Neda Hosseini', 'Reza Ghasemi', 'Sara Soleimani', 'Mojtaba Karimi', 'Neda Rostami', 'Hossein Rostami', 'Neda Rostami', 'Sara Rostami', 'Mojtaba Karimi', 'Elham Hosseini', 'Sara Soleimani', 'Zahra Ghasemi', 'Leila Jafari']\n",
            "Intermediate Epoch 61 - Arrangement 1 (Indices): [17 11 12  9 12 10 13 15  4 11 16  9  3  8 10 12  4 12  6 10 14  8 13 19]\n",
            "Train Epoch: 71 Loss: 4.440312640276287\n",
            "Intermediate Epoch 71 - Arrangement 1: ['Neda Hosseini', 'Hossein Rostami', 'Leila Karimi', 'Elham Shirazi', 'Elham Hosseini', 'Reza Ahmadi', 'Sara Rostami', 'Leila Jafari', 'Hossein Rostami', 'Hossein Shirazi', 'Amir Jafari', 'Neda Hosseini', 'Mojtaba Karimi', 'Neda Rostami', 'Hossein Rostami', 'Reza Ghasemi', 'Reza Ghasemi', 'Amir Soleimani', 'Elham Rostami', 'Leila Jafari', 'Elham Ghasemi', 'Elham Hosseini', 'Sara Soleimani', 'Sara Rostami']\n",
            "Intermediate Epoch 71 - Arrangement 1 (Indices): [ 9  4 18 23 14 17  6 19  4 11  1  9 10 12  4  3  3 15 16 19  5 14  8  6]\n",
            "Train Epoch: 81 Loss: 4.460240220848959\n",
            "Intermediate Epoch 81 - Arrangement 1: ['Reza Ahmadi', 'Reza Ghasemi', 'Neda Hosseini', 'Reza Ghasemi', 'Elham Ghasemi', 'Mojtaba Karimi', 'Sara Rostami', 'Leila Jafari', 'Hossein Rostami', 'Hossein Shirazi', 'Amir Soleimani', 'Neda Rostami', 'Reza Ghasemi', 'Sara Soleimani', 'Elham Shirazi', 'Reza Ghasemi', 'Elham Shirazi', 'Neda Rostami', 'Neda Rostami', 'Farhad Ghasemi', 'Elham Ghasemi', 'Sara Rostami', 'Elham Shirazi', 'Neda Rostami']\n",
            "Intermediate Epoch 81 - Arrangement 1 (Indices): [17  3  9  3  5 10  6 19  4 11 15 12  3  8 23  3 23 12 12  2  5  6 23 12]\n",
            "Train Epoch: 91 Loss: 4.846444297318964\n",
            "Intermediate Epoch 91 - Arrangement 1: ['Zahra Ghasemi', 'Mojtaba Karimi', 'Hossein Rostami', 'Sara Farhadi', 'Farhad Ghasemi', 'Sara Soleimani', 'Mojtaba Karimi', 'Leila Jafari', 'Sara Farhadi', 'Reza Ahmadi', 'Hossein Shirazi', 'Reza Ahmadi', 'Mojtaba Karimi', 'Sara Farhadi', 'Elham Rostami', 'Reza Ghasemi', 'Mojtaba Karimi', 'Amir Soleimani', 'Farhad Ghasemi', 'Mojtaba Karimi', 'Reza Ahmadi', 'Zahra Ghasemi', 'Elham Ghasemi', 'Sara Farhadi']\n",
            "Intermediate Epoch 91 - Arrangement 1 (Indices): [13 10  4  0  2  8 10 19  0 17 11 17 10  0 16  3 10 15  2 10 17 13  5  0]\n",
            "Train Epoch: 101 Loss: 4.474833073782184\n",
            "Intermediate Epoch 101 - Arrangement 1: ['Elham Ghasemi', 'Elham Rostami', 'Neda Hosseini', 'Hossein Rostami', 'Elham Hosseini', 'Leila Karimi', 'Leila Karimi', 'Amir Soleimani', 'Sara Farhadi', 'Hossein Shirazi', 'Hossein Shirazi', 'Mojtaba Karimi', 'Mojtaba Karimi', 'Sara Rostami', 'Elham Ghasemi', 'Reza Ghasemi', 'Reza Ahmadi', 'Neda Rostami', 'Farhad Ghasemi', 'Leila Karimi', 'Sara Soleimani', 'Hossein Jafari', 'Zahra Ghasemi', 'Neda Hosseini']\n",
            "Intermediate Epoch 101 - Arrangement 1 (Indices): [ 5 16  9  4 14 18 18 15  0 11 11 10 10  6  5  3 17 12  2 18  8  7 13  9]\n",
            "Train Epoch: 111 Loss: 4.471215717520842\n",
            "Intermediate Epoch 111 - Arrangement 1: ['Neda Hosseini', 'Elham Rostami', 'Farhad Ghasemi', 'Elham Shirazi', 'Hossein Rostami', 'Leila Jafari', 'Sara Farhadi', 'Zahra Ghasemi', 'Elham Rostami', 'Hossein Shirazi', 'Zahra Ghasemi', 'Reza Ghasemi', 'Reza Ghasemi', 'Sara Farhadi', 'Elham Rostami', 'Reza Ghasemi', 'Amir Soleimani', 'Sara Rostami', 'Neda Hosseini', 'Sara Farhadi', 'Elham Ghasemi', 'Sara Rostami', 'Leila Karimi', 'Sara Farhadi']\n",
            "Intermediate Epoch 111 - Arrangement 1 (Indices): [ 9 16  2 23  4 19  0 13 16 11 13  3  3  0 16  3 15  6  9  0  5  6 18  0]\n",
            "Train Epoch: 121 Loss: 4.4787668371652805\n",
            "Intermediate Epoch 121 - Arrangement 1: ['Neda Hosseini', 'Farhad Ghasemi', 'Hossein Shirazi', 'Elham Hosseini', 'Farhad Ghasemi', 'Farhad Ghasemi', 'Hossein Rostami', 'Leila Jafari', 'Zahra Ghasemi', 'Hossein Shirazi', 'Zahra Ghasemi', 'Elham Rostami', 'Reza Ahmadi', 'Reza Ghasemi', 'Elham Ghasemi', 'Reza Ghasemi', 'Leila Karimi', 'Neda Rostami', 'Farhad Ghasemi', 'Mojtaba Karimi', 'Elham Shirazi', 'Reza Ahmadi', 'Elham Rostami', 'Sara Rostami']\n",
            "Intermediate Epoch 121 - Arrangement 1 (Indices): [ 9  2 11 14  2  2  4 19 13 11 13 16 17  3  5  3 18 12  2 10 23 17 16  6]\n",
            "Train Epoch: 131 Loss: 4.4313276337067915\n",
            "Intermediate Epoch 131 - Arrangement 1: ['Neda Hosseini', 'Neda Rostami', 'Hossein Shirazi', 'Leila Karimi', 'Neda Rostami', 'Mojtaba Karimi', 'Sara Rostami', 'Amir Soleimani', 'Zahra Ghasemi', 'Hossein Shirazi', 'Zahra Ghasemi', 'Elham Shirazi', 'Reza Ahmadi', 'Sara Farhadi', 'Mojtaba Karimi', 'Reza Ghasemi', 'Sara Rostami', 'Neda Rostami', 'Elham Rostami', 'Sara Farhadi', 'Elham Ghasemi', 'Sara Rostami', 'Elham Shirazi', 'Neda Rostami']\n",
            "Intermediate Epoch 131 - Arrangement 1 (Indices): [ 9 12 11 18 12 10  6 15 13 11 13 23 17  0 10  3  6 12 16  0  5  6 23 12]\n",
            "Train Epoch: 141 Loss: 4.450206570217417\n",
            "Intermediate Epoch 141 - Arrangement 1: ['Neda Hosseini', 'Hossein Rostami', 'Neda Hosseini', 'Elham Shirazi', 'Amir Soleimani', 'Mojtaba Karimi', 'Sara Farhadi', 'Amir Soleimani', 'Elham Rostami', 'Hossein Shirazi', 'Zahra Ghasemi', 'Amir Soleimani', 'Mojtaba Karimi', 'Neda Rostami', 'Mojtaba Karimi', 'Reza Ghasemi', 'Elham Shirazi', 'Amir Soleimani', 'Elham Rostami', 'Leila Karimi', 'Elham Ghasemi', 'Elham Hosseini', 'Leila Karimi', 'Sara Farhadi']\n",
            "Intermediate Epoch 141 - Arrangement 1 (Indices): [ 9  4  9 23 15 10  0 15 16 11 13 15 10 12 10  3 23 15 16 18  5 14 18  0]\n",
            "Train Epoch: 151 Loss: 4.570611784524518\n",
            "Intermediate Epoch 151 - Arrangement 1: ['Neda Hosseini', 'Hossein Shirazi', 'Sara Soleimani', 'Leila Karimi', 'Neda Rostami', 'Leila Jafari', 'Sara Rostami', 'Mojtaba Karimi', 'Hossein Rostami', 'Elham Hosseini', 'Farhad Ghasemi', 'Neda Rostami', 'Leila Jafari', 'Neda Rostami', 'Leila Karimi', 'Reza Ghasemi', 'Sara Rostami', 'Neda Rostami', 'Elham Rostami', 'Reza Ahmadi', 'Amir Soleimani', 'Leila Jafari', 'Farhad Ghasemi', 'Amir Soleimani']\n",
            "Intermediate Epoch 151 - Arrangement 1 (Indices): [ 9 11  8 18 12 19  6 10  4 14  2 12 19 12 18  3  6 12 16 17 15 19  2 15]\n",
            "Train Epoch: 161 Loss: 4.445426312465308\n",
            "Intermediate Epoch 161 - Arrangement 1: ['Neda Hosseini', 'Hossein Shirazi', 'Sara Soleimani', 'Reza Ghasemi', 'Farhad Ghasemi', 'Reza Ahmadi', 'Sara Rostami', 'Mojtaba Karimi', 'Hossein Rostami', 'Leila Jafari', 'Elham Hosseini', 'Elham Shirazi', 'Reza Ahmadi', 'Sara Soleimani', 'Hossein Rostami', 'Neda Rostami', 'Hossein Rostami', 'Neda Rostami', 'Farhad Ghasemi', 'Sara Soleimani', 'Amir Soleimani', 'Elham Ghasemi', 'Amir Soleimani', 'Elham Hosseini']\n",
            "Intermediate Epoch 161 - Arrangement 1 (Indices): [ 9 11  8  3  2 17  6 10  4 19 14 23 17  8  4 12  4 12  2  8 15  5 15 14]\n",
            "Train Epoch: 171 Loss: 4.444618171556753\n",
            "Intermediate Epoch 171 - Arrangement 1: ['Farhad Ghasemi', 'Hossein Shirazi', 'Leila Karimi', 'Elham Shirazi', 'Neda Rostami', 'Leila Jafari', 'Farhad Ghasemi', 'Amir Soleimani', 'Hossein Rostami', 'Hossein Rostami', 'Zahra Ghasemi', 'Elham Ghasemi', 'Reza Ghasemi', 'Hossein Rostami', 'Mojtaba Karimi', 'Reza Ghasemi', 'Elham Shirazi', 'Reza Ghasemi', 'Elham Rostami', 'Sara Soleimani', 'Elham Hosseini', 'Sara Rostami', 'Elham Shirazi', 'Sara Rostami']\n",
            "Intermediate Epoch 171 - Arrangement 1 (Indices): [ 2 11 18 23 12 19  2 15  4  4 13  5  3  4 10  3 23  3 16  8 14  6 23  6]\n",
            "Train Epoch: 181 Loss: 4.572049158506243\n",
            "Intermediate Epoch 181 - Arrangement 1: ['Elham Ghasemi', 'Leila Jafari', 'Neda Hosseini', 'Leila Karimi', 'Sara Rostami', 'Sara Soleimani', 'Hossein Rostami', 'Amir Soleimani', 'Sara Farhadi', 'Hossein Shirazi', 'Zahra Ghasemi', 'Farhad Ghasemi', 'Mojtaba Karimi', 'Sara Farhadi', 'Mojtaba Karimi', 'Reza Ghasemi', 'Zahra Ghasemi', 'Neda Rostami', 'Elham Rostami', 'Leila Karimi', 'Elham Ghasemi', 'Zahra Ghasemi', 'Sara Rostami', 'Hossein Rostami']\n",
            "Intermediate Epoch 181 - Arrangement 1 (Indices): [ 5 19  9 18  6  8  4 15  0 11 13  2 10  0 10  3 13 12 16 18  5 13  6  4]\n",
            "Train Epoch: 191 Loss: 4.443638490856241\n",
            "Intermediate Epoch 191 - Arrangement 1: ['Neda Hosseini', 'Neda Rostami', 'Hossein Rostami', 'Elham Shirazi', 'Hossein Rostami', 'Reza Ahmadi', 'Elham Hosseini', 'Amir Soleimani', 'Elham Rostami', 'Hossein Shirazi', 'Zahra Ghasemi', 'Amir Soleimani', 'Mojtaba Karimi', 'Neda Rostami', 'Hossein Shirazi', 'Reza Ghasemi', 'Elham Ghasemi', 'Amir Soleimani', 'Farhad Ghasemi', 'Leila Karimi', 'Elham Ghasemi', 'Elham Hosseini', 'Elham Hosseini', 'Sara Farhadi']\n",
            "Intermediate Epoch 191 - Arrangement 1 (Indices): [ 9 12  4 23  4 17 14 15 16 11 13 15 10 12 11  3  5 15  2 18  5 14 14  0]\n",
            "Train Epoch: 201 Loss: 4.4384925702483695\n",
            "Intermediate Epoch 201 - Arrangement 1: ['Elham Ghasemi', 'Leila Karimi', 'Neda Hosseini', 'Leila Jafari', 'Neda Rostami', 'Zahra Ghasemi', 'Elham Hosseini', 'Amir Soleimani', 'Hossein Rostami', 'Leila Karimi', 'Elham Hosseini', 'Reza Ghasemi', 'Reza Ghasemi', 'Hossein Rostami', 'Mojtaba Karimi', 'Neda Rostami', 'Hossein Rostami', 'Sara Farhadi', 'Elham Rostami', 'Sara Soleimani', 'Sara Soleimani', 'Sara Rostami', 'Sara Soleimani', 'Farhad Ghasemi']\n",
            "Intermediate Epoch 201 - Arrangement 1 (Indices): [ 5 18  9 19 12 13 14 15  4 18 14  3  3  4 10 12  4  0 16  8  8  6  8  2]\n",
            "Train Epoch: 211 Loss: 4.556316070041424\n",
            "Intermediate Epoch 211 - Arrangement 1: ['Elham Rostami', 'Leila Karimi', 'Elham Ghasemi', 'Hossein Rostami', 'Sara Rostami', 'Reza Ahmadi', 'Zahra Ghasemi', 'Sara Farhadi', 'Hossein Rostami', 'Elham Rostami', 'Amir Soleimani', 'Neda Rostami', 'Amir Soleimani', 'Sara Rostami', 'Zahra Ghasemi', 'Neda Rostami', 'Leila Karimi', 'Neda Rostami', 'Elham Rostami', 'Reza Ahmadi', 'Sara Soleimani', 'Farhad Ghasemi', 'Elham Shirazi', 'Hossein Rostami']\n",
            "Intermediate Epoch 211 - Arrangement 1 (Indices): [16 18  5  4  6 17 13  0  4 16 15 12 15  6 13 12 18 12 16 17  8  2 23  4]\n",
            "Train Epoch: 221 Loss: 4.617451616741018\n",
            "Intermediate Epoch 221 - Arrangement 1: ['Neda Hosseini', 'Hossein Shirazi', 'Sara Soleimani', 'Leila Karimi', 'Farhad Ghasemi', 'Leila Jafari', 'Hossein Shirazi', 'Elham Hosseini', 'Elham Rostami', 'Hossein Shirazi', 'Zahra Ghasemi', 'Elham Shirazi', 'Sara Farhadi', 'Sara Soleimani', 'Elham Shirazi', 'Reza Ghasemi', 'Hossein Rostami', 'Neda Rostami', 'Neda Hosseini', 'Sara Farhadi', 'Reza Ahmadi', 'Elham Rostami', 'Reza Ahmadi', 'Neda Rostami']\n",
            "Intermediate Epoch 221 - Arrangement 1 (Indices): [ 9 11  8 18  2 19 11 14 16 11 13 23  0  8 23  3  4 12  9  0 17 16 17 12]\n",
            "Train Epoch: 231 Loss: 4.463112203842087\n",
            "Intermediate Epoch 231 - Arrangement 1: ['Neda Hosseini', 'Sara Farhadi', 'Mojtaba Karimi', 'Reza Ghasemi', 'Farhad Ghasemi', 'Farhad Ghasemi', 'Reza Ahmadi', 'Amir Soleimani', 'Zahra Ghasemi', 'Hossein Shirazi', 'Zahra Ghasemi', 'Elham Rostami', 'Reza Ghasemi', 'Neda Rostami', 'Hossein Rostami', 'Reza Ghasemi', 'Leila Karimi', 'Sara Rostami', 'Farhad Ghasemi', 'Leila Karimi', 'Zahra Ghasemi', 'Reza Ahmadi', 'Leila Jafari', 'Amir Soleimani']\n",
            "Intermediate Epoch 231 - Arrangement 1 (Indices): [ 9  0 10  3  2  2 17 15 13 11 13 16  3 12  4  3 18  6  2 18 13 17 19 15]\n",
            "Train Epoch: 241 Loss: 4.456692136490174\n",
            "Intermediate Epoch 241 - Arrangement 1: ['Neda Hosseini', 'Sara Rostami', 'Hossein Shirazi', 'Neda Hosseini', 'Reza Ahmadi', 'Mojtaba Karimi', 'Hossein Rostami', 'Amir Soleimani', 'Zahra Ghasemi', 'Hossein Rostami', 'Zahra Ghasemi', 'Elham Ghasemi', 'Amir Soleimani', 'Neda Rostami', 'Elham Shirazi', 'Reza Ghasemi', 'Elham Ghasemi', 'Neda Rostami', 'Farhad Ghasemi', 'Leila Karimi', 'Elham Ghasemi', 'Elham Hosseini', 'Sara Soleimani', 'Mojtaba Karimi']\n",
            "Intermediate Epoch 241 - Arrangement 1 (Indices): [ 9  6 11  9 17 10  4 15 13  4 13  5 15 12 23  3  5 12  2 18  5 14  8 10]\n",
            "Train Epoch: 251 Loss: 4.4725971793589405\n",
            "Intermediate Epoch 251 - Arrangement 1: ['Neda Hosseini', 'Elham Rostami', 'Neda Hosseini', 'Hossein Rostami', 'Amir Soleimani', 'Reza Ahmadi', 'Reza Ahmadi', 'Amir Soleimani', 'Leila Karimi', 'Hossein Shirazi', 'Zahra Ghasemi', 'Elham Shirazi', 'Hossein Shirazi', 'Mojtaba Karimi', 'Zahra Ghasemi', 'Reza Ghasemi', 'Reza Ghasemi', 'Neda Rostami', 'Neda Rostami', 'Elham Rostami', 'Leila Jafari', 'Farhad Ghasemi', 'Leila Karimi', 'Sara Farhadi']\n",
            "Intermediate Epoch 251 - Arrangement 1 (Indices): [ 9 16  9  4 15 17 17 15 18 11 13 23 11 10 13  3  3 12 12 16 19  2 18  0]\n",
            "Train Epoch: 261 Loss: 4.560760542408002\n",
            "Intermediate Epoch 261 - Arrangement 1: ['Elham Rostami', 'Sara Rostami', 'Leila Karimi', 'Hossein Rostami', 'Hossein Rostami', 'Reza Ahmadi', 'Elham Ghasemi', 'Amir Soleimani', 'Zahra Ghasemi', 'Leila Jafari', 'Elham Shirazi', 'Neda Rostami', 'Elham Rostami', 'Sara Soleimani', 'Sara Farhadi', 'Hossein Shirazi', 'Elham Shirazi', 'Amir Soleimani', 'Reza Ahmadi', 'Reza Ahmadi', 'Elham Ghasemi', 'Farhad Ghasemi', 'Mojtaba Karimi', 'Amir Soleimani']\n",
            "Intermediate Epoch 261 - Arrangement 1 (Indices): [16  6 18  4  4 17  5 15 13 19 23 12 16  8  0 11 23 15 17 17  5  2 10 15]\n",
            "Train Epoch: 271 Loss: 5.057716133130968\n",
            "Intermediate Epoch 271 - Arrangement 1: ['Elham Rostami', 'Sara Soleimani', 'Reza Ahmadi', 'Reza Ghasemi', 'Zahra Ghasemi', 'Elham Hosseini', 'Reza Ahmadi', 'Sara Farhadi', 'Hossein Rostami', 'Leila Jafari', 'Sara Rostami', 'Neda Rostami', 'Leila Jafari', 'Elham Hosseini', 'Elham Shirazi', 'Hossein Shirazi', 'Sara Rostami', 'Reza Ghasemi', 'Hossein Rostami', 'Leila Karimi', 'Sara Rostami', 'Elham Ghasemi', 'Neda Rostami', 'Sara Soleimani']\n",
            "Intermediate Epoch 271 - Arrangement 1 (Indices): [16  8 17  3 13 14 17  0  4 19  6 12 19 14 23 11  6  3  4 18  6  5 12  8]\n",
            "Train Epoch: 281 Loss: 4.4661988286593335\n",
            "Intermediate Epoch 281 - Arrangement 1: ['Farhad Ghasemi', 'Neda Rostami', 'Hossein Shirazi', 'Neda Hosseini', 'Neda Rostami', 'Mojtaba Karimi', 'Zahra Ghasemi', 'Amir Soleimani', 'Leila Karimi', 'Hossein Shirazi', 'Zahra Ghasemi', 'Elham Shirazi', 'Elham Rostami', 'Sara Soleimani', 'Mojtaba Karimi', 'Reza Ghasemi', 'Leila Karimi', 'Neda Rostami', 'Elham Rostami', 'Leila Karimi', 'Elham Ghasemi', 'Sara Soleimani', 'Leila Karimi', 'Leila Jafari']\n",
            "Intermediate Epoch 281 - Arrangement 1 (Indices): [ 2 12 11  9 12 10 13 15 18 11 13 23 16  8 10  3 18 12 16 18  5  8 18 19]\n",
            "Train Epoch: 291 Loss: 4.534856665990168\n",
            "Intermediate Epoch 291 - Arrangement 1: ['Neda Hosseini', 'Hossein Shirazi', 'Reza Ghasemi', 'Neda Hosseini', 'Farhad Ghasemi', 'Farhad Ghasemi', 'Hossein Rostami', 'Amir Soleimani', 'Elham Rostami', 'Sara Rostami', 'Zahra Ghasemi', 'Elham Shirazi', 'Reza Ahmadi', 'Sara Rostami', 'Hossein Rostami', 'Reza Ghasemi', 'Leila Karimi', 'Neda Rostami', 'Hossein Rostami', 'Sara Soleimani', 'Elham Hosseini', 'Elham Ghasemi', 'Neda Hosseini', 'Amir Soleimani']\n",
            "Intermediate Epoch 291 - Arrangement 1 (Indices): [ 9 11  3  9  2  2  4 15 16  6 13 23 17  6  4  3 18 12  4  8 14  5  9 15]\n",
            "Train Epoch: 301 Loss: 4.4468856827211525\n",
            "Intermediate Epoch 301 - Arrangement 1: ['Farhad Ghasemi', 'Leila Jafari', 'Neda Hosseini', 'Leila Jafari', 'Elham Hosseini', 'Mojtaba Karimi', 'Sara Farhadi', 'Amir Soleimani', 'Zahra Ghasemi', 'Hossein Shirazi', 'Zahra Ghasemi', 'Reza Ghasemi', 'Reza Ghasemi', 'Neda Rostami', 'Elham Shirazi', 'Reza Ghasemi', 'Elham Shirazi', 'Neda Rostami', 'Farhad Ghasemi', 'Leila Karimi', 'Elham Ghasemi', 'Farhad Ghasemi', 'Leila Jafari', 'Neda Rostami']\n",
            "Intermediate Epoch 301 - Arrangement 1 (Indices): [ 2 19  9 19 14 10  0 15 13 11 13  3  3 12 23  3 23 12  2 18  5  2 19 12]\n",
            "Train Epoch: 311 Loss: 4.520793427331775\n",
            "Intermediate Epoch 311 - Arrangement 1: ['Neda Hosseini', 'Hossein Shirazi', 'Zahra Ghasemi', 'Elham Shirazi', 'Hossein Rostami', 'Reza Ahmadi', 'Sara Farhadi', 'Amir Soleimani', 'Hossein Rostami', 'Hossein Rostami', 'Zahra Ghasemi', 'Amir Soleimani', 'Reza Ghasemi', 'Hossein Rostami', 'Hossein Shirazi', 'Neda Rostami', 'Hossein Rostami', 'Hossein Shirazi', 'Elham Rostami', 'Farhad Ghasemi', 'Farhad Ghasemi', 'Sara Rostami', 'Sara Soleimani', 'Sara Farhadi']\n",
            "Intermediate Epoch 311 - Arrangement 1 (Indices): [ 9 11 13 23  4 17  0 15  4  4 13 15  3  4 11 12  4 11 16  2  2  6  8  0]\n",
            "Train Epoch: 321 Loss: 4.479886995240724\n",
            "Intermediate Epoch 321 - Arrangement 1: ['Elham Ghasemi', 'Reza Ahmadi', 'Neda Hosseini', 'Leila Karimi', 'Neda Rostami', 'Leila Jafari', 'Sara Rostami', 'Leila Jafari', 'Hossein Rostami', 'Hossein Shirazi', 'Mojtaba Karimi', 'Amir Soleimani', 'Mojtaba Karimi', 'Leila Jafari', 'Elham Shirazi', 'Reza Ghasemi', 'Sara Rostami', 'Neda Rostami', 'Elham Rostami', 'Elham Hosseini', 'Sara Soleimani', 'Maryam Ghasemi', 'Zahra Ghasemi', 'Zahra Ghasemi']\n",
            "Intermediate Epoch 321 - Arrangement 1 (Indices): [ 5 17  9 18 12 19  6 19  4 11 10 15 10 19 23  3  6 12 16 14  8 22 13 13]\n",
            "Train Epoch: 331 Loss: 4.429794391688469\n",
            "Intermediate Epoch 331 - Arrangement 1: ['Neda Hosseini', 'Leila Jafari', 'Neda Hosseini', 'Hossein Rostami', 'Elham Hosseini', 'Elham Hosseini', 'Hossein Rostami', 'Amir Soleimani', 'Elham Rostami', 'Hossein Shirazi', 'Zahra Ghasemi', 'Elham Shirazi', 'Reza Ghasemi', 'Neda Rostami', 'Elham Shirazi', 'Reza Ghasemi', 'Elham Shirazi', 'Neda Rostami', 'Neda Rostami', 'Farhad Ghasemi', 'Elham Hosseini', 'Farhad Ghasemi', 'Reza Ghasemi', 'Neda Rostami']\n",
            "Intermediate Epoch 331 - Arrangement 1 (Indices): [ 9 19  9  4 14 14  4 15 16 11 13 23  3 12 23  3 23 12 12  2 14  2  3 12]\n",
            "Train Epoch: 341 Loss: 4.427403675342561\n",
            "Intermediate Epoch 341 - Arrangement 1: ['Amir Soleimani', 'Hossein Shirazi', 'Sara Soleimani', 'Leila Karimi', 'Neda Rostami', 'Farhad Ghasemi', 'Hossein Shirazi', 'Amir Soleimani', 'Elham Rostami', 'Hossein Shirazi', 'Zahra Ghasemi', 'Elham Shirazi', 'Reza Ghasemi', 'Neda Rostami', 'Hossein Rostami', 'Reza Ghasemi', 'Elham Ghasemi', 'Elham Hosseini', 'Farhad Ghasemi', 'Sara Soleimani', 'Elham Shirazi', 'Elham Ghasemi', 'Amir Soleimani', 'Amir Soleimani']\n",
            "Intermediate Epoch 341 - Arrangement 1 (Indices): [15 11  8 18 12  2 11 15 16 11 13 23  3 12  4  3  5 14  2  8 23  5 15 15]\n",
            "Train Epoch: 351 Loss: 4.477043181006032\n",
            "Intermediate Epoch 351 - Arrangement 1: ['Amir Soleimani', 'Hossein Shirazi', 'Sara Soleimani', 'Leila Jafari', 'Elham Rostami', 'Reza Ahmadi', 'Sara Rostami', 'Leila Jafari', 'Neda Hosseini', 'Sara Soleimani', 'Amir Soleimani', 'Neda Rostami', 'Reza Ghasemi', 'Sara Farhadi', 'Sara Rostami', 'Reza Ghasemi', 'Sara Rostami', 'Neda Rostami', 'Hossein Rostami', 'Reza Ahmadi', 'Sara Soleimani', 'Elham Ghasemi', 'Farhad Ghasemi', 'Amir Soleimani']\n",
            "Intermediate Epoch 351 - Arrangement 1 (Indices): [15 11  8 19 16 17  6 19  9  8 15 12  3  0  6  3  6 12  4 17  8  5  2 15]\n",
            "Train Epoch: 361 Loss: 4.486400195949719\n",
            "Intermediate Epoch 361 - Arrangement 1: ['Elham Ghasemi', 'Elham Rostami', 'Elham Ghasemi', 'Elham Hosseini', 'Sara Rostami', 'Reza Ahmadi', 'Zahra Ghasemi', 'Amir Soleimani', 'Hossein Rostami', 'Reza Ahmadi', 'Hossein Shirazi', 'Elham Rostami', 'Amir Soleimani', 'Sara Rostami', 'Leila Karimi', 'Neda Hosseini', 'Leila Karimi', 'Neda Rostami', 'Elham Rostami', 'Mojtaba Karimi', 'Sara Soleimani', 'Farhad Ghasemi', 'Elham Shirazi', 'Hossein Rostami']\n",
            "Intermediate Epoch 361 - Arrangement 1 (Indices): [ 5 16  5 14  6 17 13 15  4 17 11 16 15  6 18  9 18 12 16 10  8  2 23  4]\n",
            "Train Epoch: 371 Loss: 4.459281771221602\n",
            "Intermediate Epoch 371 - Arrangement 1: ['Reza Ahmadi', 'Hossein Shirazi', 'Sara Soleimani', 'Leila Jafari', 'Neda Rostami', 'Leila Jafari', 'Farhad Ghasemi', 'Amir Soleimani', 'Neda Hosseini', 'Elham Hosseini', 'Hossein Shirazi', 'Mojtaba Karimi', 'Sara Farhadi', 'Hossein Rostami', 'Sara Farhadi', 'Reza Ghasemi', 'Sara Rostami', 'Neda Rostami', 'Hossein Shirazi', 'Sara Soleimani', 'Sara Soleimani', 'Sara Rostami', 'Elham Shirazi', 'Zahra Ghasemi']\n",
            "Intermediate Epoch 371 - Arrangement 1 (Indices): [17 11  8 19 12 19  2 15  9 14 11 10  0  4  0  3  6 12 11  8  8  6 23 13]\n",
            "Train Epoch: 381 Loss: 4.532536090613414\n",
            "Intermediate Epoch 381 - Arrangement 1: ['Elham Rostami', 'Hossein Shirazi', 'Hossein Shirazi', 'Hossein Rostami', 'Neda Rostami', 'Leila Karimi', 'Zahra Ghasemi', 'Amir Soleimani', 'Leila Karimi', 'Hossein Shirazi', 'Leila Jafari', 'Elham Shirazi', 'Reza Ahmadi', 'Mojtaba Karimi', 'Sara Farhadi', 'Neda Rostami', 'Sara Rostami', 'Neda Rostami', 'Leila Jafari', 'Sara Soleimani', 'Elham Hosseini', 'Zahra Ghasemi', 'Elham Shirazi', 'Amir Soleimani']\n",
            "Intermediate Epoch 381 - Arrangement 1 (Indices): [16 11 11  4 12 18 13 15 18 11 19 23 17 10  0 12  6 12 19  8 14 13 23 15]\n",
            "Train Epoch: 391 Loss: 4.444630163158395\n",
            "Intermediate Epoch 391 - Arrangement 1: ['Elham Ghasemi', 'Elham Rostami', 'Neda Hosseini', 'Leila Jafari', 'Elham Hosseini', 'Elham Shirazi', 'Sara Rostami', 'Amir Soleimani', 'Neda Hosseini', 'Hossein Shirazi', 'Hossein Shirazi', 'Neda Rostami', 'Mojtaba Karimi', 'Neda Rostami', 'Elham Rostami', 'Reza Ghasemi', 'Sara Rostami', 'Sara Rostami', 'Elham Rostami', 'Reza Ahmadi', 'Sara Soleimani', 'Sara Farhadi', 'Elham Shirazi', 'Zahra Ghasemi']\n",
            "Intermediate Epoch 391 - Arrangement 1 (Indices): [ 5 16  9 19 14 23  6 15  9 11 11 12 10 12 16  3  6  6 16 17  8  0 23 13]\n",
            "Final Loss: 4.512940231206803\n",
            "Final Epoch 401 - Arrangement 1: ['Neda Hosseini', 'Elham Rostami', 'Neda Hosseini', 'Hossein Rostami', 'Amir Soleimani', 'Reza Ahmadi', 'Farhad Ghasemi', 'Amir Soleimani', 'Hossein Rostami', 'Hossein Rostami', 'Sara Rostami', 'Neda Rostami', 'Leila Jafari', 'Neda Rostami', 'Leila Karimi', 'Reza Ghasemi', 'Elham Shirazi', 'Neda Rostami', 'Elham Rostami', 'Reza Ahmadi', 'Sara Farhadi', 'Zahra Ghasemi', 'Sara Soleimani', 'Zahra Ghasemi']\n",
            "Final Epoch 401 - Arrangement 1 (Indices): [ 9 16  9  4 15 17  2 15  4  4  6 12 19 12 18  3 23 12 16 17  0 13  8 13]\n"
          ]
        }
      ]
    },
    {
      "cell_type": "code",
      "source": [],
      "metadata": {
        "id": "yizecaRza6Zs"
      },
      "execution_count": null,
      "outputs": []
    }
  ]
}